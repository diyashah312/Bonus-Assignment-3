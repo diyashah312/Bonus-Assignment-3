{
 "cells": [
  {
   "cell_type": "markdown",
   "id": "324f16d6",
   "metadata": {},
   "source": [
    "# Bonus Assignment 3: For Loops and Lists\n",
    "\n",
    "- Student Name: Diya Shah\n",
    "- Division: B\n",
    "- Roll Number:  11"
   ]
  },
  {
   "cell_type": "markdown",
   "id": "b07c8a7a",
   "metadata": {},
   "source": [
    "# For Loops"
   ]
  },
  {
   "cell_type": "markdown",
   "id": "fa6ebbf9",
   "metadata": {},
   "source": [
    "# Q1) Create a function called emoji_grader that accepts a list of grades and prints emojis based on the following grading scheme: \n",
    "- 100: 😱😱😱😱😱😱\n",
    "- 90 to 99: 🔥🔥🔥🔥🔥\n",
    "- 70 to 89: 🎉🎉🎉🎉🎉\n",
    "- 60 to 69: 😐😐😐😐😐\n",
    "- 35 to 59: 👀\n",
    "- 1 to 35: 👀👀👀👀👀\n",
    "- 0: 💀💀💀💀💀"
   ]
  },
  {
   "cell_type": "code",
   "execution_count": 1,
   "id": "a7b0caf0",
   "metadata": {},
   "outputs": [],
   "source": [
    "def emoji_grader(grades):\n",
    "    \n",
    "    for item in grades:\n",
    "        if item == 0:\n",
    "            print(\"💀💀💀💀💀\")\n",
    "        if 35 >= item > 0:\n",
    "            print(\"👀👀👀👀👀\")\n",
    "        if 59 >= item >= 35:\n",
    "            print(\"👀\")\n",
    "        if 69 >= item >= 60:\n",
    "            print(\"😐😐😐😐😐\")\n",
    "        if 89 >= item >= 70:\n",
    "            print(\"🎉🎉🎉🎉🎉\")\n",
    "        if 99 >= item >= 90:\n",
    "            print(item)\n",
    "            print(\"🔥🔥🔥🔥🔥\")\n",
    "        if item >= 100:\n",
    "            print(\"😱😱😱😱😱😱\")"
   ]
  },
  {
   "cell_type": "code",
   "execution_count": 2,
   "id": "155c619f",
   "metadata": {},
   "outputs": [
    {
     "name": "stdout",
     "output_type": "stream",
     "text": [
      "👀\n",
      "👀👀👀👀👀\n",
      "😐😐😐😐😐\n"
     ]
    }
   ],
   "source": [
    "emoji_grader([50, 1, 60])"
   ]
  },
  {
   "cell_type": "markdown",
   "id": "bac1f93e",
   "metadata": {},
   "source": [
    "## Q2) Create a function called square_printer that accepts a list of numbers and prints the square of each number in the list. Test your function with two lists. (5 Marks): \n",
    "\n",
    "**Here is an example of what the output would look like for the following list [2,4,5]**\n",
    "\n",
    "Current Number is 2  and the Square is 4\n",
    "\n",
    "Current Number is 4  and the Square is 16\n",
    "\n",
    "Current Number is 5  and the Square is 25"
   ]
  },
  {
   "cell_type": "code",
   "execution_count": 3,
   "id": "3fe9051d",
   "metadata": {},
   "outputs": [],
   "source": [
    "def square_printer(list_of_numbers):\n",
    "    for item in list_of_numbers:\n",
    "        print(f\"Current Number is {item} and the Square is \", item**2)"
   ]
  },
  {
   "cell_type": "code",
   "execution_count": 4,
   "id": "21d996c3",
   "metadata": {},
   "outputs": [
    {
     "name": "stdout",
     "output_type": "stream",
     "text": [
      "Current Number is 2 and the Square is  4\n",
      "Current Number is 4 and the Square is  16\n",
      "Current Number is 5 and the Square is  25\n"
     ]
    }
   ],
   "source": [
    "square_printer([2,4,5])"
   ]
  },
  {
   "cell_type": "markdown",
   "id": "c3fdc03e",
   "metadata": {},
   "source": [
    "# Q3) Create a function called vowel_count_printer that (10 Marks): \n",
    "\n",
    "\n",
    "- Accepts a sentence \n",
    "- Prints the total vowels (\"a\", \"e\", \"i', \"o\", \"u\") for each word in the sentence\n",
    "- Ensure your function is not case sensitve\n",
    "\n",
    "**For example, the sentence \"Hello, I am Zoshua Colah\" should print the following:**\n",
    "\n",
    "Current Word is: Hello and the Total Vowels in the Word are 2\n",
    "\n",
    "Current Word is: I and the Total Vowels in the Word are 1\n",
    "\n",
    "Current Word is: am and the Total Vowels in the Word are 1\n",
    "\n",
    "Current Word is: Zoshua and the Total Vowels in the Word are 3\n",
    "\n",
    "Current Word is: Colah and the Total Vowels in the Word are 2"
   ]
  },
  {
   "cell_type": "code",
   "execution_count": 5,
   "id": "3b304654",
   "metadata": {},
   "outputs": [],
   "source": [
    "def vowel_count_printer(Sentence):\n",
    "    vowel = ['a', 'e', 'i', 'o', 'u']\n",
    "    sent = Sentence.split(\" \")\n",
    "    for item in sent:\n",
    "      count = 0\n",
    "      for letter in item.lower():\n",
    "          if letter in vowel:\n",
    "              count += 1\n",
    "      print(f\"Current Word is: {item} and the Total Vowels in the Word are {count}\")"
   ]
  },
  {
   "cell_type": "code",
   "execution_count": 6,
   "id": "c39bdacc",
   "metadata": {},
   "outputs": [
    {
     "name": "stdout",
     "output_type": "stream",
     "text": [
      "Current Word is: Hello, and the Total Vowels in the Word are 2\n",
      "Current Word is: I and the Total Vowels in the Word are 1\n",
      "Current Word is: am and the Total Vowels in the Word are 1\n",
      "Current Word is: Zoshua and the Total Vowels in the Word are 3\n",
      "Current Word is: Colah and the Total Vowels in the Word are 2\n"
     ]
    }
   ],
   "source": [
    "vowel_count_printer('Hello, I am Zoshua Colah')"
   ]
  },
  {
   "cell_type": "code",
   "execution_count": null,
   "id": "9edc91ae",
   "metadata": {},
   "outputs": [],
   "source": []
  }
 ],
 "metadata": {
  "kernelspec": {
   "display_name": "Python 3",
   "language": "python",
   "name": "python3"
  },
  "language_info": {
   "codemirror_mode": {
    "name": "ipython",
    "version": 3
   },
   "file_extension": ".py",
   "mimetype": "text/x-python",
   "name": "python",
   "nbconvert_exporter": "python",
   "pygments_lexer": "ipython3",
   "version": "3.8.8"
  }
 },
 "nbformat": 4,
 "nbformat_minor": 5
}
